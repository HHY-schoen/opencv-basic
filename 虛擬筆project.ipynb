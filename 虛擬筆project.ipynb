{
  "nbformat": 4,
  "nbformat_minor": 0,
  "metadata": {
    "colab": {
      "provenance": [],
      "toc_visible": true
    },
    "kernelspec": {
      "name": "python3",
      "display_name": "Python 3"
    },
    "language_info": {
      "name": "python"
    }
  },
  "cells": [
    {
      "cell_type": "code",
      "execution_count": 1,
      "metadata": {
        "colab": {
          "base_uri": "https://localhost:8080/"
        },
        "id": "veVSnrsFYURq",
        "outputId": "c8838ae7-5772-4b73-8c28-a690458dc03d"
      },
      "outputs": [
        {
          "output_type": "stream",
          "name": "stdout",
          "text": [
            "Requirement already satisfied: opencv-python in /usr/local/lib/python3.10/dist-packages (4.8.0.76)\n",
            "Requirement already satisfied: numpy>=1.21.2 in /usr/local/lib/python3.10/dist-packages (from opencv-python) (1.23.5)\n"
          ]
        }
      ],
      "source": [
        "!pip install opencv-python"
      ]
    },
    {
      "cell_type": "code",
      "source": [
        "import cv2\n",
        "from google.colab.patches import cv2_imshow\n",
        "import numpy as np\n",
        "\n",
        "cap = cv2.VideoCapture(1)\n",
        "\n",
        "# Blue Green Yellow\n",
        "penColorHSV = [[86, 121, 205, 111, 245, 255],\n",
        "               [46, 78, 204, 71, 255, 255],\n",
        "               [22, 70, 214, 31, 255, 255]]\n",
        "\n",
        "penColorBGR = [[255, 0, 0],\n",
        "               [0, 255, 0],\n",
        "               [0, 255, 255]]\n",
        "\n",
        "# [x, y, colorId]\n",
        "drawPoints = []\n",
        "\n",
        "\n",
        "def findPen(img):\n",
        "    hsv = cv2.cvtColor(img, cv2.COLOR_BGR2HSV)\n",
        "\n",
        "    for i in range(len(penColorHSV)):\n",
        "        lower = np.array(penColorHSV[i][:3])\n",
        "        upper = np.array(penColorHSV[i][3:6])\n",
        "\n",
        "        mask = cv2.inRange(hsv, lower, upper)\n",
        "        result = cv2.bitwise_and(img, img, mask=mask)\n",
        "        penx, peny = findContour(mask)\n",
        "        cv2.circle(imgContour, (penx, peny), 10, penColorBGR[i], cv2.FILLED)\n",
        "        if peny!=-1:\n",
        "            drawPoints.append([penx, peny, i])\n",
        "    # cv2.imshow('result', result)\n",
        "\n",
        "def findContour(img):\n",
        "    contours, hierarchy = cv2.findContours(img, cv2.RETR_EXTERNAL, cv2.CHAIN_APPROX_NONE)\n",
        "    x, y, w, h = -1, -1, -1, -1\n",
        "    for cnt in contours:\n",
        "        # cv2.drawContours(imgContour, cnt, -1, (255, 0, 0), 4)\n",
        "        area = cv2.contourArea(cnt)\n",
        "        if area > 500:\n",
        "            peri = cv2.arcLength(cnt, True)\n",
        "            vertices = cv2.approxPolyDP(cnt, peri * 0.02, True)\n",
        "            x, y, w, h = cv2.boundingRect(vertices)\n",
        "\n",
        "    return x+w//2, y\n",
        "\n",
        "\n",
        "def draw(drawpoints):\n",
        "    for point in drawpoints:\n",
        "        cv2.circle(imgContour, (point[0], point[1]), 10, penColorBGR[point[2]], cv2.FILLED)\n",
        "\n",
        "while True:\n",
        "    ret, frame = cap.read()\n",
        "    if ret:\n",
        "        imgContour = frame.copy()\n",
        "        # cv2.imshow('video', frame)\n",
        "        findPen(frame)\n",
        "        draw(drawPoints)\n",
        "        cv2.imshow('contour', imgContour)\n",
        "    else:\n",
        "        break\n",
        "    if cv2.waitKey(1) == ord('q'):\n",
        "        break"
      ],
      "metadata": {
        "id": "kerwlnpWYmsg"
      },
      "execution_count": null,
      "outputs": []
    }
  ]
}